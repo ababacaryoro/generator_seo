{
 "cells": [
  {
   "cell_type": "code",
   "execution_count": null,
   "id": "772d485b-f04d-47da-90b6-f854257ac6cf",
   "metadata": {},
   "outputs": [],
   "source": []
  },
  {
   "cell_type": "code",
   "execution_count": null,
   "id": "7cc5e4bf-fbb7-41bc-b569-040caa559274",
   "metadata": {},
   "outputs": [],
   "source": [
    "## Tests requetes google => récupération de contenus de docaposte"
   ]
  },
  {
   "cell_type": "code",
   "execution_count": 3,
   "id": "fc705858-e2b1-4d3a-b722-9f343028c7f9",
   "metadata": {
    "tags": []
   },
   "outputs": [
    {
     "name": "stdout",
     "output_type": "stream",
     "text": [
      "Collecting googlesearch-python\n",
      "  Obtaining dependency information for googlesearch-python from https://files.pythonhosted.org/packages/2e/5c/387b879de452c6c4b5400a52f1c0216aca3aa5740acfd93346f543a20133/googlesearch_python-1.2.5-py3-none-any.whl.metadata\n",
      "  Downloading googlesearch_python-1.2.5-py3-none-any.whl.metadata (2.9 kB)\n",
      "Requirement already satisfied: beautifulsoup4>=4.9 in /Users/aba/anaconda3/lib/python3.11/site-packages (from googlesearch-python) (4.12.3)\n",
      "Requirement already satisfied: requests>=2.20 in /Users/aba/anaconda3/lib/python3.11/site-packages (from googlesearch-python) (2.31.0)\n",
      "Requirement already satisfied: soupsieve>1.2 in /Users/aba/anaconda3/lib/python3.11/site-packages (from beautifulsoup4>=4.9->googlesearch-python) (2.4)\n",
      "Requirement already satisfied: charset-normalizer<4,>=2 in /Users/aba/anaconda3/lib/python3.11/site-packages (from requests>=2.20->googlesearch-python) (3.3.2)\n",
      "Requirement already satisfied: idna<4,>=2.5 in /Users/aba/anaconda3/lib/python3.11/site-packages (from requests>=2.20->googlesearch-python) (3.4)\n",
      "Requirement already satisfied: urllib3<3,>=1.21.1 in /Users/aba/anaconda3/lib/python3.11/site-packages (from requests>=2.20->googlesearch-python) (2.2.2)\n",
      "Requirement already satisfied: certifi>=2017.4.17 in /Users/aba/anaconda3/lib/python3.11/site-packages (from requests>=2.20->googlesearch-python) (2023.7.22)\n",
      "Downloading googlesearch_python-1.2.5-py3-none-any.whl (4.8 kB)\n",
      "Installing collected packages: googlesearch-python\n",
      "Successfully installed googlesearch-python-1.2.5\n"
     ]
    }
   ],
   "source": [
    "!pip install googlesearch-python"
   ]
  },
  {
   "cell_type": "code",
   "execution_count": 5,
   "id": "a79f1e42-3f9a-4806-8d0a-0df2ae712e61",
   "metadata": {
    "tags": []
   },
   "outputs": [
    {
     "name": "stdout",
     "output_type": "stream",
     "text": [
      "<a href=\"https://www.docaposte.com/blog/article/comment-creer-signature-electronique-document\">https://www.docaposte.com/blog/article/comment-creer-signature-electronique-document</a>\n",
      "<a href=\"https://www.docaposte.com/blog/article/comment-obtenir-une-signature-electronique-qualifiee\">https://www.docaposte.com/blog/article/comment-obtenir-une-signature-electronique-qualifiee</a>\n",
      "<a href=\"https://www.docaposte.com/blog/article/comment-utiliser-la-signature-numerique-sur-pdf\">https://www.docaposte.com/blog/article/comment-utiliser-la-signature-numerique-sur-pdf</a>\n",
      "<a href=\"https://www.docaposte.com/solutions/signature-electronique\">https://www.docaposte.com/solutions/signature-electronique</a>\n",
      "<a href=\"https://www.docaposte.com/blog/article/comment-signer-un-devis-electroniquement\">https://www.docaposte.com/blog/article/comment-signer-un-devis-electroniquement</a>\n",
      "<a href=\"https://www.docaposte.com/blog/article/quest-quune-signature-electronique-simple\">https://www.docaposte.com/blog/article/quest-quune-signature-electronique-simple</a>\n",
      "<a href=\"https://www.docaposte.com/solutions/signature-electronique/signature-simple\">https://www.docaposte.com/solutions/signature-electronique/signature-simple</a>\n",
      "<a href=\"https://www.docaposte.com/blog/article/valeur-juridique-signature-electronique\">https://www.docaposte.com/blog/article/valeur-juridique-signature-electronique</a>\n",
      "<a href=\"https://www.docaposte.com/solutions/signature-electronique/signer-en-ligne\">https://www.docaposte.com/solutions/signature-electronique/signer-en-ligne</a>\n",
      "<a href=\"https://www.docaposte.com/blog/article/comment-signer-electroniquement-un-acte-dengagement\">https://www.docaposte.com/blog/article/comment-signer-electroniquement-un-acte-dengagement</a>\n"
     ]
    }
   ],
   "source": [
    "from googlesearch import search\n",
    "\n",
    "def google_search(query, site, num_results=10):\n",
    "    complete_query = f\"{query} site:{site}\"\n",
    "    links = []\n",
    "    for result in search(complete_query, num_results=num_results, lang=\"fr\"):\n",
    "        links.append(result)\n",
    "    return links\n",
    "\n",
    "def format_links_as_html(links):\n",
    "    html_links = []\n",
    "    for link in links:\n",
    "        html_links.append(f'<a href=\"{link}\">{link}</a>')\n",
    "    return \"\\n\".join(html_links)\n",
    "\n",
    "# Effectuer la recherche Google avec le domaine spécifique\n",
    "query = \"Comment faire une signature électronique\"\n",
    "site = \"docaposte.com\"\n",
    "results = google_search(query, site)\n",
    "\n",
    "# Formater les résultats sous forme de liens HTML\n",
    "html_output = format_links_as_html(results)\n",
    "print(html_output)\n"
   ]
  },
  {
   "cell_type": "code",
   "execution_count": 8,
   "id": "f33592e0-aef9-4fbb-b772-a5edde341bfc",
   "metadata": {
    "tags": []
   },
   "outputs": [
    {
     "name": "stdout",
     "output_type": "stream",
     "text": [
      "googlesearch-python                      1.2.5\n"
     ]
    }
   ],
   "source": [
    "! pip list | grep googlesearch"
   ]
  },
  {
   "cell_type": "code",
   "execution_count": 7,
   "id": "16182d55-e45d-4864-bb9e-92722487e6b2",
   "metadata": {
    "tags": []
   },
   "outputs": [
    {
     "name": "stdout",
     "output_type": "stream",
     "text": [
      "Texte : comment creer signature electronique document ; Lien : https://www.docaposte.com/blog/article/comment-creer-signature-electronique-document\n",
      "Texte : comment obtenir une signature electronique qualifiee ; Lien : https://www.docaposte.com/blog/article/comment-obtenir-une-signature-electronique-qualifiee\n",
      "Texte : comment utiliser la signature numerique sur pdf ; Lien : https://www.docaposte.com/blog/article/comment-utiliser-la-signature-numerique-sur-pdf\n",
      "Texte : signature electronique ; Lien : https://www.docaposte.com/solutions/signature-electronique\n",
      "Texte : comment signer un devis electroniquement ; Lien : https://www.docaposte.com/blog/article/comment-signer-un-devis-electroniquement\n",
      "Texte : signature simple ; Lien : https://www.docaposte.com/solutions/signature-electronique/signature-simple\n",
      "Texte : signer en ligne ; Lien : https://www.docaposte.com/solutions/signature-electronique/signer-en-ligne\n",
      "Texte : quest quune signature electronique simple ; Lien : https://www.docaposte.com/blog/article/quest-quune-signature-electronique-simple\n",
      "Texte : valeur juridique signature electronique ; Lien : https://www.docaposte.com/blog/article/valeur-juridique-signature-electronique\n",
      "Texte : comment signer electroniquement un acte dengagement ; Lien : https://www.docaposte.com/blog/article/comment-signer-electroniquement-un-acte-dengagement\n"
     ]
    }
   ],
   "source": [
    "from googlesearch import search\n",
    "import requests\n",
    "from bs4 import BeautifulSoup\n",
    "\n",
    "def google_search(query, site = \"docaposte.com\", num_results=5):\n",
    "    complete_query = f\"{query} site:{site}\"\n",
    "    links = []\n",
    "    for result in search(complete_query, num_results=num_results, lang=\"fr\"):\n",
    "        links.append(result)\n",
    "    return links\n",
    "\n",
    "def extract_title_and_snippet(link):\n",
    "    try:\n",
    "        response = requests.get(link, timeout=5)\n",
    "        soup = BeautifulSoup(response.text, 'html.parser')\n",
    "\n",
    "        # Extract the title of the page\n",
    "        title = soup.title.string if soup.title else \"No title found\"\n",
    "\n",
    "        # Extract a paragraph or snippet as a summary\n",
    "        paragraphs = soup.find_all('p')\n",
    "        snippet = paragraphs[0].get_text() if paragraphs else \"No snippet found\"\n",
    "\n",
    "        return title, snippet\n",
    "    except Exception as e:\n",
    "        return \"No title found\", \"No snippet found\"\n",
    "\n",
    "def format_ancre(links):\n",
    "    formatted_links = []\n",
    "    for link in links:\n",
    "        title, snippet = extract_title_and_snippet(link)\n",
    "        # Get last part of the article\n",
    "        last_part = link.rstrip('/').split('/')[-1]\n",
    "        ancre = ' '.join(last_part.replace('-', ' ').replace('_', ' ').split())\n",
    "    \n",
    "        \n",
    "        formatted_links.append(f'Texte : {ancre} ; Lien : {link}')\n",
    "    return \"\\n\".join(formatted_links)\n",
    "\n",
    "# Effectuer la recherche Google avec le domaine spécifique\n",
    "query = \"Comment faire une signature électronique\"\n",
    "site = \"docaposte.com\"\n",
    "results = google_search(query, site)\n",
    "\n",
    "# Formater les résultats sous forme de liens HTML avec des informations supplémentaires\n",
    "html_output = format_ancre(results)\n",
    "print(html_output)\n"
   ]
  },
  {
   "cell_type": "code",
   "execution_count": null,
   "id": "111adec0-dced-4a38-8ce6-4dc83fca7b9c",
   "metadata": {},
   "outputs": [],
   "source": []
  },
  {
   "cell_type": "code",
   "execution_count": null,
   "id": "b2803e49-f200-4ce8-8f5e-fb562782a49b",
   "metadata": {},
   "outputs": [],
   "source": []
  },
  {
   "cell_type": "code",
   "execution_count": null,
   "id": "6d88ead1-9628-4bcc-a21a-fb6250d83f02",
   "metadata": {},
   "outputs": [],
   "source": []
  },
  {
   "cell_type": "code",
   "execution_count": null,
   "id": "7f25db69-8f16-4eaa-b086-fb8f26e29951",
   "metadata": {},
   "outputs": [],
   "source": []
  }
 ],
 "metadata": {
  "kernelspec": {
   "display_name": "Python 3 (ipykernel)",
   "language": "python",
   "name": "python3"
  },
  "language_info": {
   "codemirror_mode": {
    "name": "ipython",
    "version": 3
   },
   "file_extension": ".py",
   "mimetype": "text/x-python",
   "name": "python",
   "nbconvert_exporter": "python",
   "pygments_lexer": "ipython3",
   "version": "3.11.5"
  }
 },
 "nbformat": 4,
 "nbformat_minor": 5
}
